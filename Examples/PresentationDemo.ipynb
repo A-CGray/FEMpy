{
 "cells": [
  {
   "cell_type": "markdown",
   "metadata": {},
   "source": [
    "# FEMpy Demonstration of L-Shaped Bracket\n",
    "\n",
    "In this demonstration, we have an L-Shaped Bracket that is fixed at the top and has applied loads to its right-hand side. "
   ]
  },
  {
   "cell_type": "markdown",
   "metadata": {},
   "source": [
    "First, we import `FEMpy` and any required packages:"
   ]
  },
  {
   "cell_type": "code",
   "execution_count": 5,
   "metadata": {},
   "outputs": [],
   "source": [
    "import FEMpy as fp\n",
    "import numpy as np"
   ]
  },
  {
   "cell_type": "markdown",
   "metadata": {},
   "source": [
    "### Create an Isotropic Plane Stress Constitutive Model\n",
    "\n",
    "Lets consider 7000 series Aluminum wih elastic modulus $\\lambda = 71.7 \\times 10^9$ $Pa$, Poisson's ratio $\\nu = 0.33$, density $\\rho = 2780$ $\\frac{kg}{m^3}$, and thickness $t = 5\\times10^{-3}$ $m$.\n",
    "\n"
   ]
  },
  {
   "cell_type": "code",
   "execution_count": 6,
   "metadata": {},
   "outputs": [],
   "source": [
    "λ, ν, ρ, t = 71.7e9, 0.33, 2780, 5e-3\n",
    "constitutiveModel = fp.Constitutive.IsoPlaneStress(λ, ν, ρ, t)\n"
   ]
  },
  {
   "cell_type": "markdown",
   "metadata": {},
   "source": [
    "### Create `FEMpy` model  \n",
    "Load in mesh and add fixed boundary condition. We also specify the output directory name, the output format of the mesh, and Von-Mises-Stresses as a desired output quantity."
   ]
  },
  {
   "cell_type": "code",
   "execution_count": 7,
   "metadata": {},
   "outputs": [
    {
     "name": "stdout",
     "output_type": "stream",
     "text": [
      "\n",
      "Welcome to\n",
      " ______ ______ __  __\n",
      "|  ____|  ____|  \\/  |\n",
      "| |__  | |__  | \\  / |_ __  _   _\n",
      "|  __| |  __| | |\\/| | '_ \\| | | |\n",
      "| |    | |____| |  | | |_) | |_| |\n",
      "|_|    |______|_|  |_| .__/ \\__, |\n",
      "                    | |     __/ |\n",
      "                    |_|    |___/\n",
      "\n",
      "Version: 0.0.1\n",
      "\n",
      "\n"
     ]
    }
   ],
   "source": [
    "# load in mesh\n",
    "options = {\"outputDir\": \"ExampleOutput\", \"outputFormat\": \".vtu\", \"outputFunctions\": [\"Von-Mises-Stress\"]}\n",
    "model = fp.FEMpyModel(constitutiveModel, meshFileName=\"Meshes/LBracket.msh\", options=options)\n",
    "\n",
    "# add fixed boundary condition to top edge\n",
    "nodeCoords = model.getCoordinates()\n",
    "topEdgeNodeInds = np.argwhere(nodeCoords[:, 1] == np.max(nodeCoords[:, 1])).flatten()\n",
    "\n",
    "model.addFixedBCToNodes(name=\"Fixed\", nodeInds=topEdgeNodeInds, dof=[0, 1], value=0.0)"
   ]
  },
  {
   "cell_type": "markdown",
   "metadata": {},
   "source": [
    "### Set up `FEMpy` problems\n",
    "\n",
    "Create two problem cases: Vertical Load and Horizonal Load of value $1\\times 10^5$"
   ]
  },
  {
   "cell_type": "code",
   "execution_count": 8,
   "metadata": {},
   "outputs": [],
   "source": [
    "# add load cases to FEMpy model\n",
    "verticalLoadCase = model.addProblem(\"Vertical-Load\", options={\"printTiming\": True})\n",
    "horizontalLoadCase = model.addProblem(\"Horizontal-Load\", options={\"printTiming\": True})\n",
    "\n",
    "# get right-side node indices, add loads to each problem\n",
    "rightEdgeNodeInds = np.argwhere(nodeCoords[:, 0] == np.max(nodeCoords[:, 0])).flatten()\n",
    "\n",
    "verticalLoadCase.addLoadToNodes(name=\"RightEdgeLoad\", nodeInds=rightEdgeNodeInds, dof=1, value=-1e5, totalLoad=True)\n",
    "horizontalLoadCase.addLoadToNodes(name=\"RightEdgeLoad\", nodeInds=rightEdgeNodeInds, dof=0, value=-1e5, totalLoad=True)\n"
   ]
  },
  {
   "cell_type": "markdown",
   "metadata": {},
   "source": [
    "Solve each problem"
   ]
  },
  {
   "cell_type": "code",
   "execution_count": 9,
   "metadata": {},
   "outputs": [
    {
     "name": "stdout",
     "output_type": "stream",
     "text": [
      "Updating Residual\n",
      "Updating Jacobian\n",
      "Factorising Jacobian\n",
      "Solving linear system\n",
      "\n",
      "\n",
      "+-----------------------------------------------------------------+\n",
      " Timing information for FEMpy problem: Vertical-Load\n",
      "+-----------------------------------------------------------------+\n",
      "+ Residual Assembly: 4.12783e+00 s\n",
      "+ Jacobian Assembly: 4.50461e-01 s\n",
      "+ Linear Solution:   1.69805e-01 s\n",
      "+-----------------------------------------------------------------+\n",
      "\n",
      "Updating Residual\n",
      "Updating Jacobian\n",
      "Factorising Jacobian\n",
      "Solving linear system\n",
      "\n",
      "\n",
      "+-----------------------------------------------------------------+\n",
      " Timing information for FEMpy problem: Horizontal-Load\n",
      "+-----------------------------------------------------------------+\n",
      "+ Residual Assembly: 9.56678e-02 s\n",
      "+ Jacobian Assembly: 4.46855e-01 s\n",
      "+ Linear Solution:   1.72813e-01 s\n",
      "+-----------------------------------------------------------------+\n",
      "\n"
     ]
    }
   ],
   "source": [
    "for problem in model.problems:\n",
    "    problem.solve()\n",
    "    problem.writeSolution()"
   ]
  },
  {
   "cell_type": "code",
   "execution_count": null,
   "metadata": {},
   "outputs": [],
   "source": []
  }
 ],
 "metadata": {
  "kernelspec": {
   "display_name": "Python 3 (ipykernel)",
   "language": "python",
   "name": "python3"
  },
  "language_info": {
   "codemirror_mode": {
    "name": "ipython",
    "version": 3
   },
   "file_extension": ".py",
   "mimetype": "text/x-python",
   "name": "python",
   "nbconvert_exporter": "python",
   "pygments_lexer": "ipython3",
   "version": "3.9.7"
  },
  "vscode": {
   "interpreter": {
    "hash": "7ed29583e9d86b92ec0f5d4cbb62d571549f0b60bf3cf89b59ade42254393772"
   }
  }
 },
 "nbformat": 4,
 "nbformat_minor": 2
}
